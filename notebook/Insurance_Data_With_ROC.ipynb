{
 "cells": [
  {
   "cell_type": "code",
   "execution_count": null,
   "metadata": {
    "id": "F2DrMPdu2yEZ"
   },
   "outputs": [],
   "source": [
    "import pandas as pd\n",
    "import numpy as np\n",
    "import matplotlib.pyplot as plt\n",
    "import seaborn as sns"
   ]
  },
  {
   "cell_type": "markdown",
   "metadata": {},
   "source": [
    "VERİ ANALİZİ"
   ]
  },
  {
   "cell_type": "code",
   "execution_count": null,
   "metadata": {
    "id": "bbptrc_3Pvl1"
   },
   "outputs": [],
   "source": [
    "#Verileri Okuma\n",
    "df = pd.read_csv('train.csv')\n",
    "df_test = pd.read_csv('test.csv')\n"
   ]
  },
  {
   "cell_type": "code",
   "execution_count": null,
   "metadata": {
    "colab": {
     "base_uri": "https://localhost:8080/"
    },
    "id": "cTJ1IU7lZHRy",
    "outputId": "643cfcd3-ae07-4652-fd76-635c3ab6afa4"
   },
   "outputs": [
    {
     "name": "stdout",
     "output_type": "stream",
     "text": [
      "<class 'pandas.core.frame.DataFrame'>\n",
      "RangeIndex: 381109 entries, 0 to 381108\n",
      "Data columns (total 12 columns):\n",
      " #   Column                Non-Null Count   Dtype  \n",
      "---  ------                --------------   -----  \n",
      " 0   id                    381109 non-null  int64  \n",
      " 1   Gender                381109 non-null  object \n",
      " 2   Age                   381109 non-null  int64  \n",
      " 3   Driving_License       381109 non-null  int64  \n",
      " 4   Region_Code           381109 non-null  float64\n",
      " 5   Previously_Insured    381109 non-null  int64  \n",
      " 6   Vehicle_Age           381109 non-null  object \n",
      " 7   Vehicle_Damage        381109 non-null  object \n",
      " 8   Annual_Premium        381109 non-null  float64\n",
      " 9   Policy_Sales_Channel  381109 non-null  float64\n",
      " 10  Vintage               381109 non-null  int64  \n",
      " 11  Response              381109 non-null  int64  \n",
      "dtypes: float64(3), int64(6), object(3)\n",
      "memory usage: 34.9+ MB\n",
      "None\n",
      "                  id            Age  Driving_License    Region_Code  \\\n",
      "count  381109.000000  381109.000000    381109.000000  381109.000000   \n",
      "mean   190555.000000      38.822584         0.997869      26.388807   \n",
      "std    110016.836208      15.511611         0.046110      13.229888   \n",
      "min         1.000000      20.000000         0.000000       0.000000   \n",
      "25%     95278.000000      25.000000         1.000000      15.000000   \n",
      "50%    190555.000000      36.000000         1.000000      28.000000   \n",
      "75%    285832.000000      49.000000         1.000000      35.000000   \n",
      "max    381109.000000      85.000000         1.000000      52.000000   \n",
      "\n",
      "       Previously_Insured  Annual_Premium  Policy_Sales_Channel  \\\n",
      "count       381109.000000   381109.000000         381109.000000   \n",
      "mean             0.458210    30564.389581            112.034295   \n",
      "std              0.498251    17213.155057             54.203995   \n",
      "min              0.000000     2630.000000              1.000000   \n",
      "25%              0.000000    24405.000000             29.000000   \n",
      "50%              0.000000    31669.000000            133.000000   \n",
      "75%              1.000000    39400.000000            152.000000   \n",
      "max              1.000000   540165.000000            163.000000   \n",
      "\n",
      "             Vintage       Response  \n",
      "count  381109.000000  381109.000000  \n",
      "mean      154.347397       0.122563  \n",
      "std        83.671304       0.327936  \n",
      "min        10.000000       0.000000  \n",
      "25%        82.000000       0.000000  \n",
      "50%       154.000000       0.000000  \n",
      "75%       227.000000       0.000000  \n",
      "max       299.000000       1.000000  \n"
     ]
    }
   ],
   "source": [
    "#Eksik veri var mı, sayısal/kategorik sütunlar hangileri , dağılımlar nasıl bakmak için :\n",
    "print(df.info())\n",
    "print(df.describe())"
   ]
  },
  {
   "cell_type": "code",
   "execution_count": null,
   "metadata": {
    "colab": {
     "base_uri": "https://localhost:8080/",
     "height": 143
    },
    "id": "vcR94x0XPyAp",
    "outputId": "e86e05a2-652f-4b4b-b737-799e0e3ff3c3"
   },
   "outputs": [
    {
     "data": {
      "application/vnd.google.colaboratory.intrinsic+json": {
       "type": "dataframe",
       "variable_name": "df"
      },
      "text/html": [
       "\n",
       "  <div id=\"df-d4c36bb5-9d55-4b77-a4a5-30c45a0e6611\" class=\"colab-df-container\">\n",
       "    <div>\n",
       "<style scoped>\n",
       "    .dataframe tbody tr th:only-of-type {\n",
       "        vertical-align: middle;\n",
       "    }\n",
       "\n",
       "    .dataframe tbody tr th {\n",
       "        vertical-align: top;\n",
       "    }\n",
       "\n",
       "    .dataframe thead th {\n",
       "        text-align: right;\n",
       "    }\n",
       "</style>\n",
       "<table border=\"1\" class=\"dataframe\">\n",
       "  <thead>\n",
       "    <tr style=\"text-align: right;\">\n",
       "      <th></th>\n",
       "      <th>id</th>\n",
       "      <th>Gender</th>\n",
       "      <th>Age</th>\n",
       "      <th>Driving_License</th>\n",
       "      <th>Region_Code</th>\n",
       "      <th>Previously_Insured</th>\n",
       "      <th>Vehicle_Age</th>\n",
       "      <th>Vehicle_Damage</th>\n",
       "      <th>Annual_Premium</th>\n",
       "      <th>Policy_Sales_Channel</th>\n",
       "      <th>Vintage</th>\n",
       "      <th>Response</th>\n",
       "    </tr>\n",
       "  </thead>\n",
       "  <tbody>\n",
       "    <tr>\n",
       "      <th>0</th>\n",
       "      <td>1</td>\n",
       "      <td>Male</td>\n",
       "      <td>44</td>\n",
       "      <td>1</td>\n",
       "      <td>28.0</td>\n",
       "      <td>0</td>\n",
       "      <td>&gt; 2 Years</td>\n",
       "      <td>Yes</td>\n",
       "      <td>40454.0</td>\n",
       "      <td>26.0</td>\n",
       "      <td>217</td>\n",
       "      <td>1</td>\n",
       "    </tr>\n",
       "    <tr>\n",
       "      <th>1</th>\n",
       "      <td>2</td>\n",
       "      <td>Male</td>\n",
       "      <td>76</td>\n",
       "      <td>1</td>\n",
       "      <td>3.0</td>\n",
       "      <td>0</td>\n",
       "      <td>1-2 Year</td>\n",
       "      <td>No</td>\n",
       "      <td>33536.0</td>\n",
       "      <td>26.0</td>\n",
       "      <td>183</td>\n",
       "      <td>0</td>\n",
       "    </tr>\n",
       "    <tr>\n",
       "      <th>2</th>\n",
       "      <td>3</td>\n",
       "      <td>Male</td>\n",
       "      <td>47</td>\n",
       "      <td>1</td>\n",
       "      <td>28.0</td>\n",
       "      <td>0</td>\n",
       "      <td>&gt; 2 Years</td>\n",
       "      <td>Yes</td>\n",
       "      <td>38294.0</td>\n",
       "      <td>26.0</td>\n",
       "      <td>27</td>\n",
       "      <td>1</td>\n",
       "    </tr>\n",
       "  </tbody>\n",
       "</table>\n",
       "</div>\n",
       "    <div class=\"colab-df-buttons\">\n",
       "\n",
       "  <div class=\"colab-df-container\">\n",
       "    <button class=\"colab-df-convert\" onclick=\"convertToInteractive('df-d4c36bb5-9d55-4b77-a4a5-30c45a0e6611')\"\n",
       "            title=\"Convert this dataframe to an interactive table.\"\n",
       "            style=\"display:none;\">\n",
       "\n",
       "  <svg xmlns=\"http://www.w3.org/2000/svg\" height=\"24px\" viewBox=\"0 -960 960 960\">\n",
       "    <path d=\"M120-120v-720h720v720H120Zm60-500h600v-160H180v160Zm220 220h160v-160H400v160Zm0 220h160v-160H400v160ZM180-400h160v-160H180v160Zm440 0h160v-160H620v160ZM180-180h160v-160H180v160Zm440 0h160v-160H620v160Z\"/>\n",
       "  </svg>\n",
       "    </button>\n",
       "\n",
       "  <style>\n",
       "    .colab-df-container {\n",
       "      display:flex;\n",
       "      gap: 12px;\n",
       "    }\n",
       "\n",
       "    .colab-df-convert {\n",
       "      background-color: #E8F0FE;\n",
       "      border: none;\n",
       "      border-radius: 50%;\n",
       "      cursor: pointer;\n",
       "      display: none;\n",
       "      fill: #1967D2;\n",
       "      height: 32px;\n",
       "      padding: 0 0 0 0;\n",
       "      width: 32px;\n",
       "    }\n",
       "\n",
       "    .colab-df-convert:hover {\n",
       "      background-color: #E2EBFA;\n",
       "      box-shadow: 0px 1px 2px rgba(60, 64, 67, 0.3), 0px 1px 3px 1px rgba(60, 64, 67, 0.15);\n",
       "      fill: #174EA6;\n",
       "    }\n",
       "\n",
       "    .colab-df-buttons div {\n",
       "      margin-bottom: 4px;\n",
       "    }\n",
       "\n",
       "    [theme=dark] .colab-df-convert {\n",
       "      background-color: #3B4455;\n",
       "      fill: #D2E3FC;\n",
       "    }\n",
       "\n",
       "    [theme=dark] .colab-df-convert:hover {\n",
       "      background-color: #434B5C;\n",
       "      box-shadow: 0px 1px 3px 1px rgba(0, 0, 0, 0.15);\n",
       "      filter: drop-shadow(0px 1px 2px rgba(0, 0, 0, 0.3));\n",
       "      fill: #FFFFFF;\n",
       "    }\n",
       "  </style>\n",
       "\n",
       "    <script>\n",
       "      const buttonEl =\n",
       "        document.querySelector('#df-d4c36bb5-9d55-4b77-a4a5-30c45a0e6611 button.colab-df-convert');\n",
       "      buttonEl.style.display =\n",
       "        google.colab.kernel.accessAllowed ? 'block' : 'none';\n",
       "\n",
       "      async function convertToInteractive(key) {\n",
       "        const element = document.querySelector('#df-d4c36bb5-9d55-4b77-a4a5-30c45a0e6611');\n",
       "        const dataTable =\n",
       "          await google.colab.kernel.invokeFunction('convertToInteractive',\n",
       "                                                    [key], {});\n",
       "        if (!dataTable) return;\n",
       "\n",
       "        const docLinkHtml = 'Like what you see? Visit the ' +\n",
       "          '<a target=\"_blank\" href=https://colab.research.google.com/notebooks/data_table.ipynb>data table notebook</a>'\n",
       "          + ' to learn more about interactive tables.';\n",
       "        element.innerHTML = '';\n",
       "        dataTable['output_type'] = 'display_data';\n",
       "        await google.colab.output.renderOutput(dataTable, element);\n",
       "        const docLink = document.createElement('div');\n",
       "        docLink.innerHTML = docLinkHtml;\n",
       "        element.appendChild(docLink);\n",
       "      }\n",
       "    </script>\n",
       "  </div>\n",
       "\n",
       "\n",
       "<div id=\"df-07095ea5-9cd4-44b2-bcae-9a29a27edbd4\">\n",
       "  <button class=\"colab-df-quickchart\" onclick=\"quickchart('df-07095ea5-9cd4-44b2-bcae-9a29a27edbd4')\"\n",
       "            title=\"Suggest charts\"\n",
       "            style=\"display:none;\">\n",
       "\n",
       "<svg xmlns=\"http://www.w3.org/2000/svg\" height=\"24px\"viewBox=\"0 0 24 24\"\n",
       "     width=\"24px\">\n",
       "    <g>\n",
       "        <path d=\"M19 3H5c-1.1 0-2 .9-2 2v14c0 1.1.9 2 2 2h14c1.1 0 2-.9 2-2V5c0-1.1-.9-2-2-2zM9 17H7v-7h2v7zm4 0h-2V7h2v10zm4 0h-2v-4h2v4z\"/>\n",
       "    </g>\n",
       "</svg>\n",
       "  </button>\n",
       "\n",
       "<style>\n",
       "  .colab-df-quickchart {\n",
       "      --bg-color: #E8F0FE;\n",
       "      --fill-color: #1967D2;\n",
       "      --hover-bg-color: #E2EBFA;\n",
       "      --hover-fill-color: #174EA6;\n",
       "      --disabled-fill-color: #AAA;\n",
       "      --disabled-bg-color: #DDD;\n",
       "  }\n",
       "\n",
       "  [theme=dark] .colab-df-quickchart {\n",
       "      --bg-color: #3B4455;\n",
       "      --fill-color: #D2E3FC;\n",
       "      --hover-bg-color: #434B5C;\n",
       "      --hover-fill-color: #FFFFFF;\n",
       "      --disabled-bg-color: #3B4455;\n",
       "      --disabled-fill-color: #666;\n",
       "  }\n",
       "\n",
       "  .colab-df-quickchart {\n",
       "    background-color: var(--bg-color);\n",
       "    border: none;\n",
       "    border-radius: 50%;\n",
       "    cursor: pointer;\n",
       "    display: none;\n",
       "    fill: var(--fill-color);\n",
       "    height: 32px;\n",
       "    padding: 0;\n",
       "    width: 32px;\n",
       "  }\n",
       "\n",
       "  .colab-df-quickchart:hover {\n",
       "    background-color: var(--hover-bg-color);\n",
       "    box-shadow: 0 1px 2px rgba(60, 64, 67, 0.3), 0 1px 3px 1px rgba(60, 64, 67, 0.15);\n",
       "    fill: var(--button-hover-fill-color);\n",
       "  }\n",
       "\n",
       "  .colab-df-quickchart-complete:disabled,\n",
       "  .colab-df-quickchart-complete:disabled:hover {\n",
       "    background-color: var(--disabled-bg-color);\n",
       "    fill: var(--disabled-fill-color);\n",
       "    box-shadow: none;\n",
       "  }\n",
       "\n",
       "  .colab-df-spinner {\n",
       "    border: 2px solid var(--fill-color);\n",
       "    border-color: transparent;\n",
       "    border-bottom-color: var(--fill-color);\n",
       "    animation:\n",
       "      spin 1s steps(1) infinite;\n",
       "  }\n",
       "\n",
       "  @keyframes spin {\n",
       "    0% {\n",
       "      border-color: transparent;\n",
       "      border-bottom-color: var(--fill-color);\n",
       "      border-left-color: var(--fill-color);\n",
       "    }\n",
       "    20% {\n",
       "      border-color: transparent;\n",
       "      border-left-color: var(--fill-color);\n",
       "      border-top-color: var(--fill-color);\n",
       "    }\n",
       "    30% {\n",
       "      border-color: transparent;\n",
       "      border-left-color: var(--fill-color);\n",
       "      border-top-color: var(--fill-color);\n",
       "      border-right-color: var(--fill-color);\n",
       "    }\n",
       "    40% {\n",
       "      border-color: transparent;\n",
       "      border-right-color: var(--fill-color);\n",
       "      border-top-color: var(--fill-color);\n",
       "    }\n",
       "    60% {\n",
       "      border-color: transparent;\n",
       "      border-right-color: var(--fill-color);\n",
       "    }\n",
       "    80% {\n",
       "      border-color: transparent;\n",
       "      border-right-color: var(--fill-color);\n",
       "      border-bottom-color: var(--fill-color);\n",
       "    }\n",
       "    90% {\n",
       "      border-color: transparent;\n",
       "      border-bottom-color: var(--fill-color);\n",
       "    }\n",
       "  }\n",
       "</style>\n",
       "\n",
       "  <script>\n",
       "    async function quickchart(key) {\n",
       "      const quickchartButtonEl =\n",
       "        document.querySelector('#' + key + ' button');\n",
       "      quickchartButtonEl.disabled = true;  // To prevent multiple clicks.\n",
       "      quickchartButtonEl.classList.add('colab-df-spinner');\n",
       "      try {\n",
       "        const charts = await google.colab.kernel.invokeFunction(\n",
       "            'suggestCharts', [key], {});\n",
       "      } catch (error) {\n",
       "        console.error('Error during call to suggestCharts:', error);\n",
       "      }\n",
       "      quickchartButtonEl.classList.remove('colab-df-spinner');\n",
       "      quickchartButtonEl.classList.add('colab-df-quickchart-complete');\n",
       "    }\n",
       "    (() => {\n",
       "      let quickchartButtonEl =\n",
       "        document.querySelector('#df-07095ea5-9cd4-44b2-bcae-9a29a27edbd4 button');\n",
       "      quickchartButtonEl.style.display =\n",
       "        google.colab.kernel.accessAllowed ? 'block' : 'none';\n",
       "    })();\n",
       "  </script>\n",
       "</div>\n",
       "\n",
       "    </div>\n",
       "  </div>\n"
      ],
      "text/plain": [
       "   id Gender  Age  Driving_License  Region_Code  Previously_Insured  \\\n",
       "0   1   Male   44                1         28.0                   0   \n",
       "1   2   Male   76                1          3.0                   0   \n",
       "2   3   Male   47                1         28.0                   0   \n",
       "\n",
       "  Vehicle_Age Vehicle_Damage  Annual_Premium  Policy_Sales_Channel  Vintage  \\\n",
       "0   > 2 Years            Yes         40454.0                  26.0      217   \n",
       "1    1-2 Year             No         33536.0                  26.0      183   \n",
       "2   > 2 Years            Yes         38294.0                  26.0       27   \n",
       "\n",
       "   Response  \n",
       "0         1  \n",
       "1         0  \n",
       "2         1  "
      ]
     },
     "execution_count": 4,
     "metadata": {},
     "output_type": "execute_result"
    }
   ],
   "source": [
    "df.head(3)"
   ]
  },
  {
   "cell_type": "code",
   "execution_count": null,
   "metadata": {
    "colab": {
     "base_uri": "https://localhost:8080/"
    },
    "id": "zDe6x_5ETTKM",
    "outputId": "853cf871-5277-4cab-a4ed-456ae718a710"
   },
   "outputs": [
    {
     "name": "stdout",
     "output_type": "stream",
     "text": [
      "   Gender  Age  Driving_License  Region_Code  Previously_Insured Vehicle_Age  \\\n",
      "0    Male   44                1         28.0                   0   > 2 Years   \n",
      "1    Male   76                1          3.0                   0    1-2 Year   \n",
      "2    Male   47                1         28.0                   0   > 2 Years   \n",
      "3    Male   21                1         11.0                   1    < 1 Year   \n",
      "4  Female   29                1         41.0                   1    < 1 Year   \n",
      "\n",
      "  Vehicle_Damage  Annual_Premium  Policy_Sales_Channel  Vintage  Response  \n",
      "0            Yes         40454.0                  26.0      217         1  \n",
      "1             No         33536.0                  26.0      183         0  \n",
      "2            Yes         38294.0                  26.0       27         1  \n",
      "3             No         28619.0                 152.0      203         0  \n",
      "4             No         27496.0                 152.0       39         0  \n"
     ]
    }
   ],
   "source": [
    "#id kolonu modele verilmez çıkartıyoruz\n",
    "df = df.drop(columns=\"id\", axis =1)\n",
    "print(df.head())\n"
   ]
  },
  {
   "cell_type": "code",
   "execution_count": null,
   "metadata": {
    "colab": {
     "base_uri": "https://localhost:8080/",
     "height": 564
    },
    "id": "FDUXzF8OR6k3",
    "outputId": "cab034a5-6c75-4fe3-9738-601b8e74ec81"
   },
   "outputs": [
    {
     "data": {
      "image/png": "[encoded data removed]",
      "text/plain": [
       "<Figure size 800x600 with 1 Axes>"
      ]
     },
     "metadata": {},
     "output_type": "display_data"
    }
   ],
   "source": [
    "#Veri setindeki dengesizliği grafikten görelim\n",
    "\n",
    "plt.figure(figsize=(8, 6))\n",
    "sns.countplot(data=df, x='Response')\n",
    "plt.title('Response Sınıf Dağılımı')\n",
    "plt.xlabel('Response Sınıfı')\n",
    "plt.ylabel('Adet')\n",
    "plt.show()\n"
   ]
  },
  {
   "cell_type": "code",
   "execution_count": null,
   "metadata": {
    "colab": {
     "base_uri": "https://localhost:8080/"
    },
    "id": "VOmqubyESuIs",
    "outputId": "1a4bf140-9370-4166-83b7-9542fa744633"
   },
   "outputs": [
    {
     "name": "stdout",
     "output_type": "stream",
     "text": [
      "Response\n",
      "0    334399\n",
      "1     46710\n",
      "Name: count, dtype: int64\n"
     ]
    }
   ],
   "source": [
    "response_counts = df['Response'].value_counts()\n",
    "print(response_counts)"
   ]
  },
  {
   "cell_type": "markdown",
   "metadata": {
    "id": "Gu0xQt9hdQ1g"
   },
   "source": []
  },
  {
   "cell_type": "code",
   "execution_count": null,
   "metadata": {
    "colab": {
     "base_uri": "https://localhost:8080/",
     "height": 1000
    },
    "collapsed": true,
    "id": "bMQN4hd8S3Yn",
    "outputId": "66719e04-5bd9-4ab6-bb5b-cbb75159180b"
   },
   "outputs": [
    {
     "data": {
      "image/png": "[encoded data removed]",
      "text/plain": [
       "<Figure size 500x1000 with 3 Axes>"
      ]
     },
     "metadata": {},
     "output_type": "display_data"
    }
   ],
   "source": [
    "#Kategorik veriler nasıl dağılmış, kategorik verilerdeki unique değerler neler görmek için pasta grafiği :\n",
    "\n",
    "import matplotlib.pyplot as plt\n",
    "\n",
    "categorical_columns = ['Gender','Vehicle_Age', 'Vehicle_Damage']\n",
    "\n",
    "plt.figure(figsize=(5, 10))\n",
    "for i, column in enumerate(categorical_columns, 1):\n",
    "    plt.subplot(len(categorical_columns), 1, i)\n",
    "    df[column].value_counts().plot(kind='pie', autopct='%1.1f%%', startangle=90)\n",
    "    plt.title(f\"{column} Kategorik Değişkeni Dağılımı\")\n",
    "    plt.ylabel('')\n",
    "    plt.axis('equal')\n",
    "\n",
    "plt.tight_layout()\n",
    "plt.show()"
   ]
  },
  {
   "cell_type": "markdown",
   "metadata": {},
   "source": [
    "UÇ DEĞER TESPİTİ"
   ]
  },
  {
   "cell_type": "code",
   "execution_count": null,
   "metadata": {
    "colab": {
     "base_uri": "https://localhost:8080/"
    },
    "id": "q1XJEPjETCpb",
    "outputId": "0928f493-6f80-4705-a4d1-05ef41229df1"
   },
   "outputs": [
    {
     "name": "stdout",
     "output_type": "stream",
     "text": [
      "Annual_Premium için:\n",
      "Q1: 24405.0, Q3: 39400.0, IQR: 14995.0, Alt Sınır: 1912.5, Üst Sınır: 61892.5\n",
      "Annual_Premium için uç değer sayısı: 10320\n",
      "Annual_Premium için uç değerler:\n",
      "[ 61964.  76251.  66338. ...  91305. 101664.  69845.]\n"
     ]
    }
   ],
   "source": [
    "#df.info()dan görmüştük bu sütunda uç değerler vardı IQR ile tespit edeceğiz\n",
    "column = 'Annual_Premium'\n",
    "Q1 = df[column].quantile(0.25)\n",
    "Q3 = df[column].quantile(0.75)\n",
    "IQR = Q3 - Q1\n",
    "lower_bound = Q1 - 1.5 * IQR\n",
    "upper_bound = Q3 + 1.5 * IQR\n",
    "\n",
    "print(f\"{column} için:\")\n",
    "print(f\"Q1: {Q1}, Q3: {Q3}, IQR: {IQR}, Alt Sınır: {lower_bound}, Üst Sınır: {upper_bound}\")\n",
    "\n",
    "\n",
    "outliers = df[(df[column] < lower_bound) | (df[column] > upper_bound)]\n",
    "print(f\"{column} için uç değer sayısı: {len(outliers)}\")\n",
    "print(f\"{column} için uç değerler:\")\n",
    "print(outliers[column].unique())\n"
   ]
  },
  {
   "cell_type": "markdown",
   "metadata": {},
   "source": [
    "LOG İLE UÇ DEĞER DÖNÜŞÜMÜ"
   ]
  },
  {
   "cell_type": "code",
   "execution_count": null,
   "metadata": {
    "colab": {
     "base_uri": "https://localhost:8080/"
    },
    "id": "ZpLGRODSmhAY",
    "outputId": "49aca4a6-3461-4a32-cf4a-85ff4b18f6e9"
   },
   "outputs": [
    {
     "name": "stdout",
     "output_type": "stream",
     "text": [
      "0    10.607921\n",
      "1    10.420375\n",
      "2    10.553049\n",
      "3    10.261826\n",
      "4    10.221796\n",
      "Name: Annual_Premium, dtype: float64\n"
     ]
    }
   ],
   "source": [
    "#Log dönüşümü ile uç değerlerin etkisini azaltmaya çalıştık veri silmek istemediğimden yapıyorum bunu\n",
    "df['Annual_Premium'] = np.log(df['Annual_Premium'])\n",
    "print(df['Annual_Premium'].head())"
   ]
  },
  {
   "cell_type": "markdown",
   "metadata": {},
   "source": [
    "KATEGORİK VERİLERİN NUMERİK VERİLERE ÇEVRİLMESİ (ENCODİNG İŞLEMLERİ)"
   ]
  },
  {
   "cell_type": "code",
   "execution_count": null,
   "metadata": {
    "colab": {
     "base_uri": "https://localhost:8080/"
    },
    "id": "9YHuksnzm6q-",
    "outputId": "f759d182-6548-4a87-c9f1-ef64a2c09779"
   },
   "outputs": [
    {
     "name": "stderr",
     "output_type": "stream",
     "text": [
      "<ipython-input-11-527f6da28c2d>:5: FutureWarning: Downcasting behavior in `replace` is deprecated and will be removed in a future version. To retain the old behavior, explicitly call `result.infer_objects(copy=False)`. To opt-in to the future behavior, set `pd.set_option('future.no_silent_downcasting', True)`\n",
      "  inp_df[\"Gender\"] = inp_df[\"Gender\"].replace(\n",
      "<ipython-input-11-527f6da28c2d>:13: FutureWarning: Downcasting behavior in `replace` is deprecated and will be removed in a future version. To retain the old behavior, explicitly call `result.infer_objects(copy=False)`. To opt-in to the future behavior, set `pd.set_option('future.no_silent_downcasting', True)`\n",
      "  inp_df[\"Vehicle_Age\"] = inp_df[\"Vehicle_Age\"].replace(\n"
     ]
    },
    {
     "name": "stdout",
     "output_type": "stream",
     "text": [
      "Standardize edilen veri setleri:\n",
      "   Gender  Age  Driving_License  Region_Code  Previously_Insured  Vehicle_Age  \\\n",
      "0       1   44                1         28.0                   0            2   \n",
      "1       1   76                1          3.0                   0            1   \n",
      "2       1   47                1         28.0                   0            2   \n",
      "\n",
      "   Vehicle_Damage  Annual_Premium  Policy_Sales_Channel  Vintage  Response  \n",
      "0               1       10.607921                  26.0      217         1  \n",
      "1               0       10.420375                  26.0      183         0  \n",
      "2               1       10.553049                  26.0       27         1  \n",
      "Gender                    int64\n",
      "Age                       int64\n",
      "Driving_License           int64\n",
      "Region_Code             float64\n",
      "Previously_Insured        int64\n",
      "Vehicle_Age               int64\n",
      "Vehicle_Damage            int64\n",
      "Annual_Premium          float64\n",
      "Policy_Sales_Channel    float64\n",
      "Vintage                   int64\n",
      "Response                  int64\n",
      "dtype: object\n"
     ]
    },
    {
     "name": "stderr",
     "output_type": "stream",
     "text": [
      "<ipython-input-11-527f6da28c2d>:21: FutureWarning: Downcasting behavior in `replace` is deprecated and will be removed in a future version. To retain the old behavior, explicitly call `result.infer_objects(copy=False)`. To opt-in to the future behavior, set `pd.set_option('future.no_silent_downcasting', True)`\n",
      "  inp_df[\"Vehicle_Damage\"] = inp_df[\"Vehicle_Damage\"].replace(\n"
     ]
    }
   ],
   "source": [
    "#Kategorik değişkenler numerik değişkenlere çevrilmeli daha anlaşılır bulduğumdan fonksiyon tanımlayarak yaptım Encodinglerle de yapılabilir\n",
    "\n",
    "import pandas as pd\n",
    "import numpy as np\n",
    "\n",
    "def standardize_data(inp_df, mode=\"train\"):\n",
    "    inp_df[\"Gender\"] = inp_df[\"Gender\"].replace(\n",
    "        {\n",
    "            \"Male\": 1,\n",
    "            \"Female\": 0\n",
    "\n",
    "        }\n",
    "    )\n",
    "\n",
    "    inp_df[\"Vehicle_Age\"] = inp_df[\"Vehicle_Age\"].replace(\n",
    "        {\n",
    "            '< 1 Year': 0,\n",
    "            '1-2 Year': 1,\n",
    "            '> 2 Years': 2\n",
    "        }\n",
    "    )\n",
    "\n",
    "    inp_df[\"Vehicle_Damage\"] = inp_df[\"Vehicle_Damage\"].replace(\n",
    "        {\n",
    "            \"Yes\": 1,\n",
    "            \"No\": 0\n",
    "\n",
    "        }\n",
    "    )\n",
    "\n",
    "    return inp_df\n",
    "\n",
    "\n",
    "df = standardize_data(df, mode=\"train\")\n",
    "\n",
    "\n",
    "print(\"Standardize edilen veri setleri:\")\n",
    "print(df.head(3))\n",
    "print(df.dtypes)\n",
    "\n"
   ]
  },
  {
   "cell_type": "markdown",
   "metadata": {},
   "source": [
    "MODEL : CatBoost"
   ]
  },
  {
   "cell_type": "code",
   "execution_count": null,
   "metadata": {
    "colab": {
     "base_uri": "https://localhost:8080/"
    },
    "id": "jV-M2NXqm8Yj",
    "outputId": "85ff46af-3f65-466d-8888-4f03af712cbe"
   },
   "outputs": [
    {
     "name": "stdout",
     "output_type": "stream",
     "text": [
      "Collecting catboost\n",
      "  Downloading catboost-1.2.7-cp310-cp310-manylinux2014_x86_64.whl.metadata (1.2 kB)\n",
      "Collecting graphviz (from catboost)\n",
      "  Downloading graphviz-0.20.3-py3-none-any.whl.metadata (12 kB)\n",
      "Requirement already satisfied: matplotlib in /usr/local/lib/python3.10/dist-packages (from catboost) (3.8.0)\n",
      "Requirement already satisfied: numpy<2.0,>=1.16.0 in /usr/local/lib/python3.10/dist-packages (from catboost) (1.26.4)\n",
      "Requirement already satisfied: pandas>=0.24 in /usr/local/lib/python3.10/dist-packages (from catboost) (2.2.2)\n",
      "Requirement already satisfied: scipy in /usr/local/lib/python3.10/dist-packages (from catboost) (1.13.1)\n",
      "Requirement already satisfied: plotly in /usr/local/lib/python3.10/dist-packages (from catboost) (5.24.1)\n",
      "Requirement already satisfied: six in /usr/local/lib/python3.10/dist-packages (from catboost) (1.16.0)\n",
      "Requirement already satisfied: python-dateutil>=2.8.2 in /usr/local/lib/python3.10/dist-packages (from pandas>=0.24->catboost) (2.9.0.post0)\n",
      "Requirement already satisfied: pytz>=2020.1 in /usr/local/lib/python3.10/dist-packages (from pandas>=0.24->catboost) (2024.2)\n",
      "Requirement already satisfied: tzdata>=2022.7 in /usr/local/lib/python3.10/dist-packages (from pandas>=0.24->catboost) (2024.2)\n",
      "Requirement already satisfied: contourpy>=1.0.1 in /usr/local/lib/python3.10/dist-packages (from matplotlib->catboost) (1.3.1)\n",
      "Requirement already satisfied: cycler>=0.10 in /usr/local/lib/python3.10/dist-packages (from matplotlib->catboost) (0.12.1)\n",
      "Requirement already satisfied: fonttools>=4.22.0 in /usr/local/lib/python3.10/dist-packages (from matplotlib->catboost) (4.54.1)\n",
      "Requirement already satisfied: kiwisolver>=1.0.1 in /usr/local/lib/python3.10/dist-packages (from matplotlib->catboost) (1.4.7)\n",
      "Requirement already satisfied: packaging>=20.0 in /usr/local/lib/python3.10/dist-packages (from matplotlib->catboost) (24.2)\n",
      "Requirement already satisfied: pillow>=6.2.0 in /usr/local/lib/python3.10/dist-packages (from matplotlib->catboost) (11.0.0)\n",
      "Requirement already satisfied: pyparsing>=2.3.1 in /usr/local/lib/python3.10/dist-packages (from matplotlib->catboost) (3.2.0)\n",
      "Requirement already satisfied: tenacity>=6.2.0 in /usr/local/lib/python3.10/dist-packages (from plotly->catboost) (9.0.0)\n",
      "Downloading catboost-1.2.7-cp310-cp310-manylinux2014_x86_64.whl (98.7 MB)\n",
      "\u001b[2K   \u001b[90m━━━━━━━━━━━━━━━━━━━━━━━━━━━━━━━━━━━━━━━━\u001b[0m \u001b[32m98.7/98.7 MB\u001b[0m \u001b[31m6.3 MB/s\u001b[0m eta \u001b[36m0:00:00\u001b[0m\n",
      "\u001b[?25hDownloading graphviz-0.20.3-py3-none-any.whl (47 kB)\n",
      "\u001b[2K   \u001b[90m━━━━━━━━━━━━━━━━━━━━━━━━━━━━━━━━━━━━━━━━\u001b[0m \u001b[32m47.1/47.1 kB\u001b[0m \u001b[31m2.1 MB/s\u001b[0m eta \u001b[36m0:00:00\u001b[0m\n",
      "\u001b[?25hInstalling collected packages: graphviz, catboost\n",
      "Successfully installed catboost-1.2.7 graphviz-0.20.3\n"
     ]
    }
   ],
   "source": [
    "pip install catboost"
   ]
  },
  {
   "cell_type": "markdown",
   "metadata": {},
   "source": [
    "DENGESİZ VERİ SETLERİ İÇİN OVERSAMPLİNG YÖNTEMLERİNDEN SMOTE"
   ]
  },
  {
   "cell_type": "code",
   "execution_count": null,
   "metadata": {
    "colab": {
     "base_uri": "https://localhost:8080/"
    },
    "id": "CXbFdws35-wf",
    "outputId": "a4a3376f-c78a-49f3-89ef-9e8de3d4926a"
   },
   "outputs": [
    {
     "name": "stdout",
     "output_type": "stream",
     "text": [
      "Collecting imbalanced-learn\n",
      "  Downloading imbalanced_learn-0.12.4-py3-none-any.whl.metadata (8.3 kB)\n",
      "Requirement already satisfied: numpy>=1.17.3 in /usr/local/lib/python3.10/dist-packages (from imbalanced-learn) (1.26.4)\n",
      "Requirement already satisfied: scipy>=1.5.0 in /usr/local/lib/python3.10/dist-packages (from imbalanced-learn) (1.13.1)\n",
      "Requirement already satisfied: scikit-learn>=1.0.2 in /usr/local/lib/python3.10/dist-packages (from imbalanced-learn) (1.5.2)\n",
      "Requirement already satisfied: joblib>=1.1.1 in /usr/local/lib/python3.10/dist-packages (from imbalanced-learn) (1.4.2)\n",
      "Requirement already satisfied: threadpoolctl>=2.0.0 in /usr/local/lib/python3.10/dist-packages (from imbalanced-learn) (3.5.0)\n",
      "Downloading imbalanced_learn-0.12.4-py3-none-any.whl (258 kB)\n",
      "\u001b[2K   \u001b[90m━━━━━━━━━━━━━━━━━━━━━━━━━━━━━━━━━━━━━━━━\u001b[0m \u001b[32m258.3/258.3 kB\u001b[0m \u001b[31m4.4 MB/s\u001b[0m eta \u001b[36m0:00:00\u001b[0m\n",
      "\u001b[?25hInstalling collected packages: imbalanced-learn\n",
      "Successfully installed imbalanced-learn-0.12.4\n"
     ]
    }
   ],
   "source": [
    "#Veri setindeki dengesizlik için SMOTE kullanacağım\n",
    "pip install imbalanced-learn\n"
   ]
  },
  {
   "cell_type": "markdown",
   "metadata": {},
   "source": [
    "CatBoost"
   ]
  },
  {
   "cell_type": "code",
   "execution_count": null,
   "metadata": {
    "colab": {
     "base_uri": "https://localhost:8080/",
     "height": 824
    },
    "id": "miWmn63CnDak",
    "outputId": "7514979e-a13e-43ad-c764-c264bd3520f3"
   },
   "outputs": [
    {
     "name": "stdout",
     "output_type": "stream",
     "text": [
      "Eğitim seti boyutu (SMOTE sonrası): (668798, 10)\n",
      "CatBoost - Confusion Matrix:\n",
      " [[48038 18737]\n",
      " [ 2820 64165]]\n",
      "CatBoost - Classification Report:\n",
      "               precision    recall  f1-score   support\n",
      "\n",
      "           0       0.94      0.72      0.82     66775\n",
      "           1       0.77      0.96      0.86     66985\n",
      "\n",
      "    accuracy                           0.84    133760\n",
      "   macro avg       0.86      0.84      0.84    133760\n",
      "weighted avg       0.86      0.84      0.84    133760\n",
      "\n",
      "ROC-AUC Skoru: 0.9481744210518697\n"
     ]
    },
    {
     "data": {
      "image/png": "[encoded data removed]",
      "text/plain": [
       "<Figure size 800x600 with 1 Axes>"
      ]
     },
     "metadata": {},
     "output_type": "display_data"
    }
   ],
   "source": [
    "from imblearn.over_sampling import SMOTE\n",
    "from sklearn.model_selection import train_test_split\n",
    "from catboost import CatBoostClassifier\n",
    "from sklearn.metrics import classification_report, confusion_matrix , roc_auc_score, roc_curve\n",
    "\n",
    "from sklearn.preprocessing import StandardScaler #Model scaler ile daha iyi sonuç verdi\n",
    "\n",
    "X = df.drop('Response', axis=1)\n",
    "y = df['Response']\n",
    "\n",
    "categorical_features = ['Gender', 'Vehicle_Age', 'Vehicle_Damage']\n",
    "\n",
    "scaler = StandardScaler()\n",
    "X[['Age', 'Annual_Premium', 'Policy_Sales_Channel', 'Region_Code']] = scaler.fit_transform(X[['Age', 'Annual_Premium', 'Policy_Sales_Channel', 'Region_Code']])\n",
    "\n",
    "#SMOTE\n",
    "smote = SMOTE(random_state=42)\n",
    "X_resampled, y_resampled = smote.fit_resample(X, y)\n",
    "X_train, X_test, y_train, y_test = train_test_split(X_resampled, y_resampled, test_size=0.2, random_state=42)\n",
    "\n",
    "print(\"Eğitim seti boyutu (SMOTE sonrası):\", X_resampled.shape)\n",
    "\n",
    "catboost_model = CatBoostClassifier(iterations=200, depth=10, learning_rate=0.01, random_state=42, verbose=0) #modelin parametre ayarlamaları\n",
    "\n",
    "catboost_model.fit(X_train, y_train, cat_features=categorical_features)\n",
    "y_pred_test = catboost_model.predict(X_test)\n",
    "\n",
    "#iki metrik bakıyoruz birincisi F1-Score\n",
    "print(\"CatBoost - Confusion Matrix:\\n\", confusion_matrix(y_test, y_pred_test))\n",
    "print(\"CatBoost - Classification Report:\\n\", classification_report(y_test, y_pred_test))\n",
    "\n",
    "# ikinci metrik ROC-AUC\n",
    "y_prob = catboost_model.predict_proba(X_test)[:, 1]  # Pozitif sınıfın olasılıkları\n",
    "roc_auc = roc_auc_score(y_test, y_prob)\n",
    "print(\"ROC-AUC Skoru:\", roc_auc)\n",
    "\n",
    "# ROC eğrisi\n",
    "fpr, tpr, thresholds = roc_curve(y_test, y_prob)\n",
    "plt.figure(figsize=(8, 6))\n",
    "plt.plot(fpr, tpr, label=f\"ROC Curve (AUC = {roc_auc:.2f})\", color='blue')\n",
    "plt.plot([0, 1], [0, 1], 'k--', label=\"Random Guessing\")\n",
    "plt.title(\"ROC Eğrisi\")\n",
    "plt.xlabel(\"False Positive Rate (FPR)\")\n",
    "plt.ylabel(\"True Positive Rate (TPR)\")\n",
    "plt.legend()\n",
    "plt.grid(alpha=0.4)\n",
    "plt.show()"
   ]
  },
  {
   "cell_type": "markdown",
   "metadata": {},
   "source": [
    "Overfitting Kontrolü"
   ]
  },
  {
   "cell_type": "code",
   "execution_count": null,
   "metadata": {
    "colab": {
     "base_uri": "https://localhost:8080/"
    },
    "id": "2Wi69CNbdtXj",
    "outputId": "2ff0a99f-bfe0-44b6-9b78-4953a3653094"
   },
   "outputs": [
    {
     "name": "stderr",
     "output_type": "stream",
     "text": [
      "/usr/local/lib/python3.10/dist-packages/sklearn/metrics/_scorer.py:610: FutureWarning: The `needs_threshold` and `needs_proba` parameter are deprecated in version 1.4 and will be removed in 1.6. You can either let `response_method` be `None` or set it to `predict` to preserve the same behaviour.\n",
      "  warnings.warn(\n"
     ]
    },
    {
     "name": "stdout",
     "output_type": "stream",
     "text": [
      "0:\tlearn: 0.6805184\ttotal: 21.4ms\tremaining: 10.7s\n",
      "100:\tlearn: 0.3962959\ttotal: 2.02s\tremaining: 7.99s\n",
      "200:\tlearn: 0.3474716\ttotal: 4.07s\tremaining: 6.05s\n",
      "300:\tlearn: 0.3204903\ttotal: 6s\tremaining: 3.97s\n",
      "400:\tlearn: 0.2978196\ttotal: 7.99s\tremaining: 1.97s\n",
      "499:\tlearn: 0.2759425\ttotal: 9.97s\tremaining: 0us\n",
      "0:\tlearn: 0.6816983\ttotal: 21.2ms\tremaining: 10.6s\n",
      "100:\tlearn: 0.4096462\ttotal: 2.02s\tremaining: 7.98s\n",
      "200:\tlearn: 0.3683474\ttotal: 4.03s\tremaining: 6s\n",
      "300:\tlearn: 0.3493363\ttotal: 5.94s\tremaining: 3.93s\n",
      "400:\tlearn: 0.3291855\ttotal: 7.9s\tremaining: 1.95s\n",
      "499:\tlearn: 0.3181804\ttotal: 9.86s\tremaining: 0us\n",
      "0:\tlearn: 0.6816448\ttotal: 21.6ms\tremaining: 10.8s\n",
      "100:\tlearn: 0.4100995\ttotal: 2.05s\tremaining: 8.09s\n",
      "200:\tlearn: 0.3715633\ttotal: 4.09s\tremaining: 6.09s\n",
      "300:\tlearn: 0.3509564\ttotal: 5.99s\tremaining: 3.96s\n",
      "400:\tlearn: 0.3323767\ttotal: 7.93s\tremaining: 1.96s\n",
      "499:\tlearn: 0.3185918\ttotal: 9.85s\tremaining: 0us\n",
      "0:\tlearn: 0.6816875\ttotal: 21ms\tremaining: 10.5s\n",
      "100:\tlearn: 0.4106290\ttotal: 2.04s\tremaining: 8.04s\n",
      "200:\tlearn: 0.3719001\ttotal: 4.1s\tremaining: 6.11s\n",
      "300:\tlearn: 0.3520056\ttotal: 6.03s\tremaining: 3.98s\n",
      "400:\tlearn: 0.3313291\ttotal: 8s\tremaining: 1.97s\n",
      "499:\tlearn: 0.3182110\ttotal: 9.93s\tremaining: 0us\n",
      "0:\tlearn: 0.6814989\ttotal: 22.3ms\tremaining: 11.1s\n",
      "100:\tlearn: 0.4099330\ttotal: 2.01s\tremaining: 7.96s\n",
      "200:\tlearn: 0.3716987\ttotal: 4.04s\tremaining: 6s\n",
      "300:\tlearn: 0.3519216\ttotal: 6.01s\tremaining: 3.98s\n",
      "400:\tlearn: 0.3327636\ttotal: 7.99s\tremaining: 1.97s\n",
      "499:\tlearn: 0.3197208\ttotal: 9.95s\tremaining: 0us\n",
      "Cross-Validation ROC-AUC Skorları: [0.88028898 0.97133662 0.97231221 0.97125085 0.96976658]\n",
      "Cross-Validation Ortalama ROC-AUC Skoru: 0.9530\n",
      "Cross-Validation Standart Sapması: 0.0364\n"
     ]
    }
   ],
   "source": [
    "#Model ezber yapmışmı diye kfold cv bakıyorum\n",
    "\n",
    "from sklearn.model_selection import cross_val_score\n",
    "from sklearn.metrics import make_scorer, roc_auc_score\n",
    "\n",
    "roc_auc = make_scorer(roc_auc_score, needs_proba=True)\n",
    "cv_roc_auc_scores = cross_val_score(catboost_model, X_resampled, y_resampled, cv=5, scoring=roc_auc)\n",
    "\n",
    "print(f\"Cross-Validation ROC-AUC Skorları: {cv_roc_auc_scores}\")\n",
    "print(f\"Cross-Validation Ortalama ROC-AUC Skoru: {cv_roc_auc_scores.mean():.4f}\")\n",
    "print(f\"Cross-Validation Standart Sapması: {cv_roc_auc_scores.std():.4f}\")\n"
   ]
  },
  {
   "cell_type": "markdown",
   "metadata": {},
   "source": [
    "StratifiedKFold"
   ]
  },
  {
   "cell_type": "code",
   "execution_count": null,
   "metadata": {
    "colab": {
     "base_uri": "https://localhost:8080/"
    },
    "id": "ykJAPLvmjBbJ",
    "outputId": "96dba376-4f9d-43ba-cbcf-d6248cbabe64"
   },
   "outputs": [
    {
     "name": "stdout",
     "output_type": "stream",
     "text": [
      "0:\tlearn: 0.6814257\ttotal: 20.8ms\tremaining: 10.4s\n",
      "100:\tlearn: 0.4085802\ttotal: 2s\tremaining: 7.89s\n",
      "200:\tlearn: 0.3674364\ttotal: 3.98s\tremaining: 5.92s\n",
      "300:\tlearn: 0.3460348\ttotal: 5.9s\tremaining: 3.9s\n",
      "400:\tlearn: 0.3273683\ttotal: 7.87s\tremaining: 1.94s\n",
      "499:\tlearn: 0.3096626\ttotal: 9.86s\tremaining: 0us\n",
      "0:\tlearn: 0.6814253\ttotal: 21.4ms\tremaining: 10.7s\n",
      "100:\tlearn: 0.4088126\ttotal: 2.03s\tremaining: 8s\n",
      "200:\tlearn: 0.3677596\ttotal: 4.02s\tremaining: 5.98s\n",
      "300:\tlearn: 0.3459063\ttotal: 5.95s\tremaining: 3.94s\n",
      "400:\tlearn: 0.3282689\ttotal: 7.89s\tremaining: 1.95s\n",
      "499:\tlearn: 0.3142729\ttotal: 9.85s\tremaining: 0us\n",
      "0:\tlearn: 0.6815129\ttotal: 20.9ms\tremaining: 10.4s\n",
      "100:\tlearn: 0.4086295\ttotal: 2.06s\tremaining: 8.15s\n",
      "200:\tlearn: 0.3676982\ttotal: 4.08s\tremaining: 6.07s\n",
      "300:\tlearn: 0.3459543\ttotal: 5.99s\tremaining: 3.96s\n",
      "400:\tlearn: 0.3264728\ttotal: 7.94s\tremaining: 1.96s\n",
      "499:\tlearn: 0.3112299\ttotal: 9.88s\tremaining: 0us\n",
      "0:\tlearn: 0.6815086\ttotal: 21.7ms\tremaining: 10.8s\n",
      "100:\tlearn: 0.4081782\ttotal: 2.04s\tremaining: 8.07s\n",
      "200:\tlearn: 0.3676692\ttotal: 4.11s\tremaining: 6.11s\n",
      "300:\tlearn: 0.3451303\ttotal: 6.01s\tremaining: 3.98s\n",
      "400:\tlearn: 0.3244318\ttotal: 7.96s\tremaining: 1.96s\n",
      "499:\tlearn: 0.3102397\ttotal: 9.89s\tremaining: 0us\n",
      "0:\tlearn: 0.6814180\ttotal: 21.2ms\tremaining: 10.6s\n",
      "100:\tlearn: 0.4074629\ttotal: 2.02s\tremaining: 7.97s\n",
      "200:\tlearn: 0.3685253\ttotal: 4.05s\tremaining: 6.02s\n",
      "300:\tlearn: 0.3461575\ttotal: 6.05s\tremaining: 4s\n",
      "400:\tlearn: 0.3222074\ttotal: 8.1s\tremaining: 2s\n",
      "499:\tlearn: 0.3097499\ttotal: 10.1s\tremaining: 0us\n",
      "Stratified Cross-Validation Skorları: [0.84577602 0.84659091 0.84572368 0.84719533 0.84640286]\n",
      "Ortalama Doğruluk: 0.8463\n"
     ]
    }
   ],
   "source": [
    "#sonuç istediğim gibi gelmedi muhtemelen ilk bölümde verilerin dağılımı kötü bu yüzden StratifiedKFold bakalım\n",
    "\n",
    "from sklearn.model_selection import StratifiedKFold, cross_val_score\n",
    "\n",
    "# Stratified K-Fold kullanımı\n",
    "skf = StratifiedKFold(n_splits=5, shuffle=True, random_state=42)\n",
    "cv_scores = cross_val_score(catboost_model, X_resampled, y_resampled, cv=skf, scoring=\"accuracy\")\n",
    "print(f\"Stratified Cross-Validation Skorları: {cv_scores}\")\n",
    "print(f\"Ortalama Doğruluk: {cv_scores.mean():.4f}\")\n"
   ]
  },
  {
   "cell_type": "code",
   "execution_count": null,
   "metadata": {
    "colab": {
     "base_uri": "https://localhost:8080/"
    },
    "id": "BS2WbtMcTs21",
    "outputId": "2778f909-4849-4ba0-b962-b2c78d11740d"
   },
   "outputs": [
    {
     "name": "stdout",
     "output_type": "stream",
     "text": [
      "Response\n",
      "0    334399\n",
      "1     46710\n",
      "Name: count, dtype: int64\n"
     ]
    }
   ],
   "source": [
    "response_counts = df['Response'].value_counts()\n",
    "print(response_counts)"
   ]
  },
  {
   "cell_type": "markdown",
   "metadata": {},
   "source": [
    "Öğrenme Eğrisi"
   ]
  },
  {
   "cell_type": "code",
   "execution_count": null,
   "metadata": {
    "colab": {
     "base_uri": "https://localhost:8080/",
     "height": 948
    },
    "collapsed": true,
    "id": "6VOT9SPCj86A",
    "outputId": "f68de329-f34a-4542-9e81-bfbbb984bbc2"
   },
   "outputs": [
    {
     "name": "stderr",
     "output_type": "stream",
     "text": [
      "/usr/local/lib/python3.10/dist-packages/sklearn/model_selection/_validation.py:540: FitFailedWarning: \n",
      "5 fits failed out of a total of 50.\n",
      "The score on these train-test partitions for these parameters will be set to nan.\n",
      "If these failures are not expected, you can try to debug them by setting error_score='raise'.\n",
      "\n",
      "Below are more details about the failures:\n",
      "--------------------------------------------------------------------------------\n",
      "5 fits failed with the following error:\n",
      "Traceback (most recent call last):\n",
      "  File \"/usr/local/lib/python3.10/dist-packages/sklearn/model_selection/_validation.py\", line 888, in _fit_and_score\n",
      "    estimator.fit(X_train, y_train, **fit_params)\n",
      "  File \"/usr/local/lib/python3.10/dist-packages/catboost/core.py\", line 5245, in fit\n",
      "    self._fit(X, y, cat_features, text_features, embedding_features, None, graph, sample_weight, None, None, None, None, baseline, use_best_model,\n",
      "  File \"/usr/local/lib/python3.10/dist-packages/catboost/core.py\", line 2410, in _fit\n",
      "    self._train(\n",
      "  File \"/usr/local/lib/python3.10/dist-packages/catboost/core.py\", line 1790, in _train\n",
      "    self._object._train(train_pool, test_pool, params, allow_clear_pool, init_model._object if init_model else None)\n",
      "  File \"_catboost.pyx\", line 5017, in _catboost._CatBoost._train\n",
      "  File \"_catboost.pyx\", line 5066, in _catboost._CatBoost._train\n",
      "_catboost.CatBoostError: catboost/private/libs/target/target_converter.cpp:404: Target contains only one unique value\n",
      "\n",
      "  warnings.warn(some_fits_failed_message, FitFailedWarning)\n"
     ]
    },
    {
     "data": {
      "image/png": "[encoded data removed]",
      "text/plain": [
       "<Figure size 800x600 with 1 Axes>"
      ]
     },
     "metadata": {},
     "output_type": "display_data"
    }
   ],
   "source": [
    "\n",
    "#Overfitting kontrolü için bakabileceğimiz diğer yöntem Öğrenme Eğrisidir iki eğri birbirine yakın olmalı data artarken doğruluk azalıyorsa\n",
    "# model ezber yapıyor demektir.\n",
    "\n",
    "from sklearn.model_selection import learning_curve\n",
    "import numpy as np\n",
    "import matplotlib.pyplot as plt\n",
    "\n",
    "train_sizes, train_scores, valid_scores = learning_curve(\n",
    "    catboost_model, X_resampled, y_resampled, cv=5, train_sizes=np.linspace(0.1, 1.0, 10), scoring=\"accuracy\"\n",
    ")\n",
    "\n",
    "train_means = train_scores.mean(axis=1)\n",
    "valid_means = valid_scores.mean(axis=1)\n",
    "\n",
    "plt.figure(figsize=(8, 6))\n",
    "plt.plot(train_sizes, train_means, label=\"Eğitim Doğruluğu\")\n",
    "plt.plot(train_sizes, valid_means, label=\"Doğrulama Doğruluğu\")\n",
    "plt.title(\"Öğrenme Eğrileri\")\n",
    "plt.xlabel(\"Eğitim Verisi Boyutu\")\n",
    "plt.ylabel(\"Doğruluk\")\n",
    "plt.legend()\n",
    "plt.grid()\n",
    "plt.show()\n"
   ]
  },
  {
   "cell_type": "markdown",
   "metadata": {
    "id": "Ng3048kZoAdb"
   },
   "source": [
    "# Modeli Kaydetme\n",
    "\n"
   ]
  },
  {
   "cell_type": "code",
   "execution_count": null,
   "metadata": {
    "colab": {
     "base_uri": "https://localhost:8080/"
    },
    "id": "AKPvLvbPnJFK",
    "outputId": "f0263452-2ac1-4aa7-e87d-f895a7330cdc"
   },
   "outputs": [
    {
     "name": "stdout",
     "output_type": "stream",
     "text": [
      "Model ve özellikler başarıyla kaydedildi!\n"
     ]
    }
   ],
   "source": [
    "import joblib\n",
    "\n",
    "#Son olarak modeli kaydedelim\n",
    "joblib.dump(catboost_model, \"catboost_model.pkl\")\n",
    "\n",
    "# Modelde kullanılan özelliklerin sırasını kaydet\n",
    "model_features = X.columns.tolist()\n",
    "joblib.dump(model_features, \"model_features.pkl\")\n",
    "\n",
    "print(\"Model ve özellikler başarıyla kaydedildi!\")\n"
   ]
  },
  {
   "cell_type": "code",
   "execution_count": null,
   "metadata": {
    "id": "K-Aa_hx6qUD8"
   },
   "outputs": [],
   "source": []
  }
 ],
 "metadata": {
  "accelerator": "TPU",
  "colab": {
   "gpuType": "V28",
   "machine_shape": "hm",
   "provenance": [],
   "toc_visible": true
  },
  "kernelspec": {
   "display_name": "Python 3",
   "name": "python3"
  },
  "language_info": {
   "name": "python"
  }
 },
 "nbformat": 4,
 "nbformat_minor": 0
}
